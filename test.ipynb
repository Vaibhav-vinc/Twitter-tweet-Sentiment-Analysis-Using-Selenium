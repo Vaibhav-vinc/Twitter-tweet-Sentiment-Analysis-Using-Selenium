{
 "cells": [
  {
   "cell_type": "markdown",
   "metadata": {},
   "source": [
    "# Fetching Tweets using tweepy (Can't search tweets on free api)"
   ]
  },
  {
   "cell_type": "code",
   "execution_count": null,
   "metadata": {},
   "outputs": [],
   "source": [
    "# import tweepy\n"
   ]
  },
  {
   "cell_type": "code",
   "execution_count": null,
   "metadata": {},
   "outputs": [],
   "source": [
    "# bearer_token: str = \"AAAAAAAAAAAAAAAAAAAAABPEsQEAAAAAtK0q5fOTQOqL3yQbwnHkxcJP%2BGQ%3DZDb6pwtdwNoSks7CuEOAOQqRLptEQfjQ9BVVj3qsoZzzcapZeH\"\n",
    "# consumer_key = \"H1XNRD41Q5iJwkOP9DFbK5anW\"\n",
    "# consumer_secret = \"BKfC1nVxq2UqLgEFiOgb2SZayYpLpmM0rWQrn6kj1RHfb2qgYj\"\n",
    "# access_token = \"1759484046692745217-wgEm7FMZrYrubVNI5kSrTVWexpZcap\"\n",
    "# access_token_secret = \"a8DsCsORCI3ODBZRvrUD7zOLFyd6lEHsYtoutpJNp34CE\"\n"
   ]
  },
  {
   "cell_type": "code",
   "execution_count": null,
   "metadata": {},
   "outputs": [],
   "source": [
    "# client = tweepy.Client(\n",
    "#     consumer_key=consumer_key,\n",
    "#     consumer_secret=consumer_secret,\n",
    "#     access_token=access_token,\n",
    "#     access_token_secret=access_token_secret,\n",
    "# )\n",
    "\n",
    "# response = client.search_recent_tweets(\"Tweepy\")\n",
    "# The method returns a Response object, a named tuple with data, includes,\n",
    "# errors, and meta fields\n",
    "# print(response.meta)\n"
   ]
  },
  {
   "cell_type": "code",
   "execution_count": null,
   "metadata": {},
   "outputs": [],
   "source": [
    "# In this case, the data field of the Response returned is a list of Tweet\n",
    "# objects\n",
    "# tweets = response.data\n",
    "\n",
    "# Each Tweet object has default ID and text fields\n",
    "# for tweet in tweets:\n",
    "#     print(tweet.id)\n",
    "#     print(tweet.text)\n",
    "\n",
    "# By default, this endpoint/method returns 10 results\n",
    "# You can retrieve up to 100 Tweets by specifying max_results\n",
    "# response = client.search_recent_tweets(\"Tweepy\", max_results=100)\n"
   ]
  },
  {
   "cell_type": "markdown",
   "metadata": {},
   "source": [
    "# Fetching Tweets using Selenium"
   ]
  },
  {
   "cell_type": "code",
   "execution_count": null,
   "metadata": {},
   "outputs": [],
   "source": [
    "%pip install selenium\n"
   ]
  },
  {
   "cell_type": "code",
   "execution_count": null,
   "metadata": {},
   "outputs": [],
   "source": [
    "from selenium import webdriver\n",
    "from selenium.webdriver.common.by import By\n",
    "import time\n",
    "from textblob import TextBlob\n"
   ]
  },
  {
   "cell_type": "code",
   "execution_count": null,
   "metadata": {},
   "outputs": [],
   "source": [
    "options = webdriver.ChromeOptions()\n",
    "options.add_argument(\"--headless\")\n",
    "driver = webdriver.Chrome(options=options)\n",
    "\n",
    "twitter_username = \"elonmusk\"\n",
    "\n",
    "driver.get(url=f\"https://twitter.com/elonmusk/status/1788564251931508966\")\n",
    "\n",
    "time.sleep(5)\n",
    "\n",
    "# driver.execute_script(f\"window.scrollTo(0, {7000});\")\n",
    "\n",
    "tweet_text = driver.find_element(\n",
    "    by=By.CSS_SELECTOR, value='[data-testid=\"tweetText\"]>span'\n",
    ").text\n",
    "# tweet_text = tweets.find_element(\n",
    "#     by=By.CSS_SELECTOR, value=''\n",
    "# ).text\n",
    "\n",
    "# dataset: list = []\n",
    "\n",
    "# for tweet in tweets:\n",
    "#     try:\n",
    "#         tweet_text = tweet.find_element(\n",
    "#             by=By.CSS_SELECTOR, value='div[data-testid=\"tweetText\"]>span'\n",
    "#         ).text\n",
    "#     except:\n",
    "#         continue\n",
    "#     if \"Pinned\" in tweet_text:\n",
    "#         tweet_text.pop(tweet_text.index(\"Pinned\"))\n",
    "#     print(f\"Tweet ~ {tweet_text}\")\n",
    "#     dataset.append(tweet_text)\n",
    "\n",
    "driver.quit()\n"
   ]
  },
  {
   "cell_type": "code",
   "execution_count": null,
   "metadata": {},
   "outputs": [],
   "source": [
    "TextBlob(tweet_text)\n"
   ]
  },
  {
   "cell_type": "code",
   "execution_count": null,
   "metadata": {},
   "outputs": [],
   "source": [
    "# nameIndex = 0\n",
    "# usernameIndex = 1\n",
    "# timeoftweetIndex = 3\n",
    "# tweettextIndex = 4\n",
    "# commentcountIndex = 5\n",
    "# retweetcountIndex = 6\n",
    "# likecountIndex = 7\n",
    "\n",
    "# data = {\n",
    "#     \"Name\": [t[nameIndex] for t in dataset],\n",
    "#     \"Username\": [t[usernameIndex] for t in dataset],\n",
    "#     \"Time of Tweet\": [t[timeoftweetIndex] for t in dataset],\n",
    "#     \"Tweet\": [t[tweettextIndex] for t in dataset],\n",
    "#     \"Comments\": [t[commentcountIndex] for t in dataset],\n",
    "#     \"Retweets\": [t[retweetcountIndex] for t in dataset],\n",
    "#     \"Likes\": [t[likecountIndex] for t in dataset],\n",
    "# }\n"
   ]
  },
  {
   "cell_type": "code",
   "execution_count": null,
   "metadata": {},
   "outputs": [],
   "source": [
    "# import pandas as pd\n",
    "\n",
    "# tweets_df = pd.DataFrame({\"Tweets\": dataset})\n",
    "# tweets_df\n"
   ]
  },
  {
   "cell_type": "code",
   "execution_count": null,
   "metadata": {},
   "outputs": [],
   "source": [
    "# tweets_df = tweets_df.drop_duplicates().reset_index(drop=True)\n"
   ]
  },
  {
   "cell_type": "code",
   "execution_count": null,
   "metadata": {},
   "outputs": [],
   "source": [
    "# tweets_df\n"
   ]
  },
  {
   "cell_type": "code",
   "execution_count": null,
   "metadata": {},
   "outputs": [],
   "source": [
    "# _num_of_tweets_chars: int = 20\n",
    "# _ellipsis_count: int = 3\n",
    "# _col_1_space: int = _num_of_tweets_chars + _ellipsis_count\n",
    "# _col_2: str = 'Polarity'\n",
    "# _col_2_letter_count: int = len(_col_2)\n",
    "# _col_3: str = 'Subjectivity'\n",
    "# _col_3_letter_count: int = len(_col_3)\n",
    "# heading: str = f'{'Tweets':^{_col_1_space}} | {_col_2} | {_col_3}'\n",
    "# _head_letter_count: int = len(heading)\n"
   ]
  },
  {
   "cell_type": "code",
   "execution_count": null,
   "metadata": {},
   "outputs": [],
   "source": [
    "# print(heading)\n",
    "# for tweet in tweets_df[\"Tweets\"]:\n",
    "#     analysis: TextBlob = TextBlob(tweet)\n",
    "#     polarity: float = analysis.polarity\n",
    "#     subjectivity: float = analysis.subjectivity\n",
    "#     print(\"- \" * ((_head_letter_count // 2) + 1))\n",
    "#     ellipsis: str = (\".\" if len(tweet) > _num_of_tweets_chars else \" \") * _ellipsis_count\n",
    "#     print(\n",
    "#         f\"{tweet[:_num_of_tweets_chars]:<{_num_of_tweets_chars}}{ellipsis} | {polarity:^{_col_2_letter_count}} | {subjectivity:^{_col_3_letter_count}}\"\n",
    "#     )\n"
   ]
  },
  {
   "cell_type": "code",
   "execution_count": null,
   "metadata": {},
   "outputs": [],
   "source": [
    "import nltk\n",
    "nltk.download('vader_lexicon')\n",
    "from nltk.sentiment.vader import SentimentIntensityAnalyzer\n",
    "sid = SentimentIntensityAnalyzer()\n"
   ]
  },
  {
   "cell_type": "code",
   "execution_count": null,
   "metadata": {},
   "outputs": [],
   "source": [
    "print(TextBlob(tweet_text).sentiment)\n",
    "print(sid.polarity_scores(tweet_text))\n"
   ]
  },
  {
   "cell_type": "code",
   "execution_count": null,
   "metadata": {},
   "outputs": [],
   "source": [
    "# tweets_df['scores'] = tweets_df['Tweets'].apply(lambda Description: sid.polarity_scores(Description))\n",
    "# tweets_df['compound'] = tweets_df['scores'].apply(lambda score_dict: score_dict['compound'])\n",
    "# tweets_df['sentiment_type']=''\n",
    "# tweets_df.loc[tweets_df.compound>0,'sentiment_type']='POSITIVE'\n",
    "# tweets_df.loc[tweets_df.compound==0,'sentiment_type']='NEUTRAL'\n",
    "# tweets_df.loc[tweets_df.compound<0,'sentiment_type']='NEGATIVE'\n"
   ]
  },
  {
   "cell_type": "code",
   "execution_count": null,
   "metadata": {},
   "outputs": [],
   "source": [
    "# tweets_df['total'] = tweets_df['scores'].apply(lambda score_dict: sum(score_dict.values()) - score_dict['compound'])\n"
   ]
  },
  {
   "cell_type": "code",
   "execution_count": null,
   "metadata": {},
   "outputs": [],
   "source": [
    "# tweets_df[\"Positive %\"] = tweets_df['scores'].apply(lambda score_dict: score_dict['pos']*100)\n",
    "# tweets_df[\"Neutral %\"] = tweets_df['scores'].apply(lambda score_dict: score_dict['neu']*100)\n",
    "# tweets_df[\"Negative %\"] = tweets_df['scores'].apply(lambda score_dict: score_dict['neg']*100)\n",
    "# tweets_df.drop(columns=['scores', 'total'], inplace=True)\n"
   ]
  },
  {
   "cell_type": "code",
   "execution_count": null,
   "metadata": {},
   "outputs": [],
   "source": [
    "# tweets_df\n"
   ]
  },
  {
   "cell_type": "code",
   "execution_count": null,
   "metadata": {},
   "outputs": [],
   "source": [
    "# process_dict = sid.polarity_scores(tweets)\n",
    "\n",
    "# compound = process_dict[\"compound\"]\n",
    "# if compound == 0:\n",
    "#     sentiment_type = \"Neutral\"\n",
    "# elif compound > 0:\n",
    "#     sentiment_type = \"Positive\"\n",
    "# elif compound < 0:\n",
    "#     sentiment_type = \"Negative\"\n",
    "# new_dict: dict[str, float] = process_dict.copy()\n",
    "# new_dict[\"sentiment_type\"] = sentiment_type\n",
    "# new_dict[\"polarity\"] = TextBlob(tweets).polarity\n",
    "# new_dict[\"positive_pcnt\"] = process_dict['pos'] * 100\n",
    "# new_dict[\"neutral_pcnt\"] = process_dict[\"neu\"] * 100\n",
    "# new_dict[\"negative_pcnt\"] = process_dict[\"neg\"] * 100\n",
    "\n",
    "# process_dict.clear()\n",
    "# process_dict = new_dict.copy()\n"
   ]
  },
  {
   "cell_type": "code",
   "execution_count": null,
   "metadata": {},
   "outputs": [],
   "source": [
    "# process_dict\n",
    "\n"
   ]
  },
  {
   "cell_type": "markdown",
   "metadata": {},
   "source": [
    "# SELENIUM FETCHING THROUGH TWEET SPECIFIC URL"
   ]
  },
  {
   "cell_type": "code",
   "execution_count": 49,
   "metadata": {},
   "outputs": [],
   "source": [
    "def getTweetByURL(tweet_url):\n",
    "    options = webdriver.ChromeOptions()\n",
    "    options.add_argument(argument=\"--headless\")\n",
    "    driver = webdriver.Chrome(options=options)\n",
    "\n",
    "    driver.get(url=tweet_url)\n",
    "\n",
    "    time.sleep(3)  # Letting the webpage load up\n",
    "\n",
    "    try:\n",
    "        tweet = driver.find_element(\n",
    "            by=By.CSS_SELECTOR, value='[data-testid=\"tweetText\"]>span'\n",
    "        )\n",
    "        tweet_text: str = tweet.text\n",
    "    except:\n",
    "        driver.quit()\n",
    "        return \"Some error occured. Make sure that the tweet has text and not only media, and try again.\"\n",
    "\n",
    "    driver.quit()\n",
    "    # processed_tweet_data: dict[str, float] = URLProcessTweet(tweet_text=tweet_text)\n",
    "    # processed_tweet_data.update({\"code\": 200})\n",
    "    # return processed_tweet_data\n",
    "    return tweet_text\n"
   ]
  },
  {
   "cell_type": "code",
   "execution_count": 50,
   "metadata": {},
   "outputs": [
    {
     "data": {
      "text/plain": [
       "'Akshaya Tritiya is a very auspicious day in Odisha and for the great Odia culture. This is the day when the making of chariots begins for the Rath Yatra of Mahaprabhu Shri Jagannath. It is also closely linked with Akhi Muthi Anukula, when farmers start sowing seeds.\\n\\nMay the blessings of Mahaprabhu Shri Jagannath always remain upon us.'"
      ]
     },
     "execution_count": 50,
     "metadata": {},
     "output_type": "execute_result"
    }
   ],
   "source": [
    "tweet_text = getTweetByURL(tweet_url=\"https://twitter.com/narendramodi/status/1788835064983310463\")\n",
    "tweet_text\n"
   ]
  },
  {
   "cell_type": "code",
   "execution_count": 53,
   "metadata": {},
   "outputs": [
    {
     "data": {
      "text/plain": [
       "{'sentiment_type': 'Positive',\n",
       " 'polarity': 0.5,\n",
       " 'positive_pcnt': 12.1,\n",
       " 'neutral_pcnt': 87.9,\n",
       " 'negative_pcnt': 0.0,\n",
       " 'tweet_text': 'Akshaya Tritiya is a very auspicious day in Odisha and for the great Odia culture. This is the day when the making of chariots begins for the Rath Yatra of Mahaprabhu Shri Jagannath. It is also closely linked with Akhi Muthi Anukula, when farmers start sowing seeds.\\n\\nMay the blessings of Mahaprabhu Shri Jagannath always remain upon us.'}"
      ]
     },
     "execution_count": 53,
     "metadata": {},
     "output_type": "execute_result"
    }
   ],
   "source": [
    "sid = SentimentIntensityAnalyzer()\n",
    "process_dict: dict[str, float] = sid.polarity_scores(tweet_text)\n",
    "\n",
    "compound: float = process_dict.pop(\"compound\")\n",
    "if compound == 0:\n",
    "    sentiment_type = \"Neutral\"\n",
    "elif compound > 0:\n",
    "    sentiment_type = \"Positive\"\n",
    "elif compound < 0:\n",
    "    sentiment_type = \"Negative\"\n",
    "\n",
    "new_dict: dict[str, float] = dict()\n",
    "new_dict[\"sentiment_type\"] = sentiment_type\n",
    "new_dict[\"polarity\"] = TextBlob(text=tweet_text).polarity\n",
    "new_dict[\"positive_pcnt\"] = round(process_dict[\"pos\"] * 100, 2)\n",
    "new_dict[\"neutral_pcnt\"] = round(process_dict[\"neu\"] * 100, 2)\n",
    "new_dict[\"negative_pcnt\"] = round(process_dict[\"neg\"] * 100, 2)\n",
    "new_dict[\"tweet_text\"] = tweet_text\n",
    "new_dict\n"
   ]
  }
 ],
 "metadata": {
  "kernelspec": {
   "display_name": "Python 3",
   "language": "python",
   "name": "python3"
  },
  "language_info": {
   "codemirror_mode": {
    "name": "ipython",
    "version": 3
   },
   "file_extension": ".py",
   "mimetype": "text/x-python",
   "name": "python",
   "nbconvert_exporter": "python",
   "pygments_lexer": "ipython3",
   "version": "3.12.3"
  }
 },
 "nbformat": 4,
 "nbformat_minor": 2
}
